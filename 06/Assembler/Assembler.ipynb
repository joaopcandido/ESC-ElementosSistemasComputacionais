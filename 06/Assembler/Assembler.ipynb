{
 "cells": [
  {
   "cell_type": "code",
   "execution_count": 1,
   "metadata": {},
   "outputs": [],
   "source": [
    "comp = dict({'0':'0101010','1':'0111111','-1':'0111010','D':'0001100','A':'0110000','M':'1110000',\n",
    "            '!D':'0001101','!A':'0110001','!M':'1110001','-D':'0001111','-A':'0110011','-M':'1110011',\n",
    "           'D+1':'0011111','A+1':'0110111','M+1':'1110111','D-1':'0001110','A-1':'0110010','M-1':'0110010',\n",
    "           'D+A':'0000010','D+M':'1000010','A+D':'0000010','M+D':'1000010','D-A':'0010011','D-M':'1010011',\n",
    "             'A-D':'0000111','M-D':'1000111','D&A':'0000000','D&M':'1000000','D|A':'0010101','D|M':'1010101'})\n",
    "\n",
    "dest = dict({'null':'000','M':'001','D':'010','MD':'011','A':'100','AM':'101','AD':'110','AMD':'111'})\n",
    "\n",
    "jump = dict({'null':'000','JGT':'001','JEQ':'010','JGE':'011','JLT':'100','JNE':'101','JLE':'110','JMP':'111'})"
   ]
  },
  {
   "cell_type": "code",
   "execution_count": 2,
   "metadata": {},
   "outputs": [],
   "source": [
    "a_instruction = dict({'R0':'0','R1':'1','R2':'2','R3':'3','R4':'4','R5':'5','R6':'6','R7':'7','R8':'8','R9':'9','R10':'10',\n",
    "                      'R11':'11','R12':'12','R13':'13','R14':'14','R15':'15','SCREEN':'16384','KBD':'24576'})"
   ]
  },
  {
   "cell_type": "code",
   "execution_count": 3,
   "metadata": {},
   "outputs": [],
   "source": [
    "original = open('mult.asm','r')\n",
    "remove_comments = [row.split('//')[0].replace(\" \",\"\").replace(\"\\n\",\"\") for row in original]\n",
    "clean_blank_lines = [row for row in remove_comments if row != \"\"]\n",
    "labels = [row.replace(\"(\",\"\").replace(\")\",\"\") for row in clean_blank_lines if row[0]=='(' and row[-1]==')']"
   ]
  },
  {
   "cell_type": "code",
   "execution_count": 4,
   "metadata": {},
   "outputs": [],
   "source": [
    "labels_dict = dict()\n",
    "count_labels = 0\n",
    "for label in labels:\n",
    "    for row in clean_blank_lines:\n",
    "        clean_row = row.replace(\"(\",\"\").replace(\")\",\"\")\n",
    "        if clean_row == label:\n",
    "            key = label.replace(\"(\",\"\").replace(\")\",\"\")\n",
    "            labels_dict[key] = clean_blank_lines.index(row) - count_labels\n",
    "            count_labels += 1"
   ]
  },
  {
   "cell_type": "code",
   "execution_count": 5,
   "metadata": {},
   "outputs": [],
   "source": [
    "remove_labels = [row for row in clean_blank_lines if row[0]!='(' and row[-1]!=')']\n",
    "subst_a_inst = []\n",
    "for item in remove_labels:\n",
    "    if item[0] == '@':\n",
    "        new_item = ''\n",
    "        if item[1:] in labels:\n",
    "            new_item = '@' + str(labels_dict[item[1:]])\n",
    "        else:\n",
    "            new_item = '@' + a_instruction[item[1:]]\n",
    "        if new_item == '':\n",
    "            print(\"Error founded\")\n",
    "            break\n",
    "        subst_a_inst.append(new_item)\n",
    "    else:\n",
    "        subst_a_inst.append(item)"
   ]
  },
  {
   "cell_type": "code",
   "execution_count": 6,
   "metadata": {},
   "outputs": [
    {
     "data": {
      "text/plain": [
       "4"
      ]
     },
     "execution_count": 6,
     "metadata": {},
     "output_type": "execute_result"
    }
   ],
   "source": [
    "len(bin(int('15')).split('b')[1])"
   ]
  },
  {
   "cell_type": "code",
   "execution_count": 7,
   "metadata": {},
   "outputs": [],
   "source": [
    "assembler = []\n",
    "for item in subst_a_inst:\n",
    "    \n",
    "    if item[0] == '@':\n",
    "        instruction = '0'\n",
    "        binary = bin(int(item[1:])).split('b')[1]\n",
    "        for i in range(15 - len(binary)):\n",
    "            instruction = instruction + '0'\n",
    "        instruction = instruction + binary\n",
    "        \n",
    "    else:\n",
    "        instruction = '111'\n",
    "        cmp = item.split(';')[0]\n",
    "        \n",
    "        if len(item.split(';')) > 1:\n",
    "            i_jump = item.split(';')[1]\n",
    "        else:\n",
    "            i_jump = 'null'\n",
    "        \n",
    "        if len(cmp.split('=')) > 1:\n",
    "            i_dest = cmp.split('=')[0]\n",
    "            i_comp = cmp.split('=')[1]\n",
    "        else:\n",
    "            i_dest = 'null'\n",
    "            i_comp = cmp.split('=')[0]\n",
    "        \n",
    "        instruction = '111' + comp[i_comp] + dest[i_dest] + jump[i_jump]\n",
    "        \n",
    "    assembler.append(instruction)"
   ]
  },
  {
   "cell_type": "code",
   "execution_count": 11,
   "metadata": {},
   "outputs": [],
   "source": [
    "hack = open('mult.hack','w+')\n",
    "for row in assembler:\n",
    "    hack.write(row + \"\\n\")\n",
    "hack.close()\n",
    "original.close()"
   ]
  },
  {
   "cell_type": "code",
   "execution_count": null,
   "metadata": {},
   "outputs": [],
   "source": []
  }
 ],
 "metadata": {
  "kernelspec": {
   "display_name": "Python 3",
   "language": "python",
   "name": "python3"
  },
  "language_info": {
   "codemirror_mode": {
    "name": "ipython",
    "version": 3
   },
   "file_extension": ".py",
   "mimetype": "text/x-python",
   "name": "python",
   "nbconvert_exporter": "python",
   "pygments_lexer": "ipython3",
   "version": "3.7.2"
  }
 },
 "nbformat": 4,
 "nbformat_minor": 2
}
